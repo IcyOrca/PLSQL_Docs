{
 "cells": [
  {
   "cell_type": "markdown",
   "id": "c924152b-d7fd-4464-87e0-0cbb066bcd77",
   "metadata": {},
   "source": [
    "<h2>1.2.2 Blocks</h2>\n",
    "\n",
    "<p>The basic unit of a PL/SQL source program is the block, which groups related declarations and statements.</p>\n",
    "\n",
    "<p>A PL/SQL block is defined by the keywords <strong>DECLARE</strong>, <strong>BEGIN</strong>, <strong>EXCEPTION</strong>, and <strong>END</strong>. These keywords divide the block into a declarative part, an executable part, and an exception-handling part. Only the executable part is required. A block can have a label.</p>\n",
    "\n",
    "<p>Declarations are local to the block and cease to exist when the block completes execution, helping to avoid cluttered namespaces for variables and subprograms.</p>\n",
    "\n",
    "<p><strong>Blocks can be nested:</strong> Because a block is an executable statement, it can appear in another block wherever an executable statement is allowed.</p>\n",
    "\n",
    "<p>You can submit a block to an interactive tool (such as SQL*Plus or Enterprise Manager) or embed it in an Oracle Precompiler or OCI program. The interactive tool or program runs the block one time. The block is not stored in the database, and for that reason, it is called an <strong>anonymous block</strong> (even if it has a label).</p>\n",
    "\n",
    "<p>An anonymous block is compiled each time it is loaded into memory, and its compilation has three stages:</p>\n",
    "\n",
    "<ul>\n",
    "  <li><strong>Syntax checking:</strong> PL/SQL syntax is checked, and a parse tree is generated.</li>\n",
    "  <li><strong>Semantic checking:</strong> Type checking and further processing on the parse tree.</li>\n",
    "  <li><strong>Code generation</strong></li>\n",
    "</ul>\n",
    "\n",
    "<p><strong>Note:</strong> An anonymous block is a SQL statement.</p>\n",
    "\n",
    "<p><strong>Example of a PL/SQL Block Structure</strong><img src=\"https://raw.githubusercontent.com/IcyOrca/PLSQL_Docs/main/img/1.2.2 - PLSQL Block Structure.png\" alt=\"Rustacean\" width=\"300\"></p>"
   ]
  },
  {
   "cell_type": "code",
   "execution_count": null,
   "id": "63920b72-478b-410a-a330-0491a8136900",
   "metadata": {},
   "outputs": [],
   "source": []
  }
 ],
 "metadata": {
  "kernelspec": {
   "display_name": "Python 3 (ipykernel)",
   "language": "python",
   "name": "python3"
  },
  "language_info": {
   "codemirror_mode": {
    "name": "ipython",
    "version": 3
   },
   "file_extension": ".py",
   "mimetype": "text/x-python",
   "name": "python",
   "nbconvert_exporter": "python",
   "pygments_lexer": "ipython3",
   "version": "3.12.4"
  }
 },
 "nbformat": 4,
 "nbformat_minor": 5
}
