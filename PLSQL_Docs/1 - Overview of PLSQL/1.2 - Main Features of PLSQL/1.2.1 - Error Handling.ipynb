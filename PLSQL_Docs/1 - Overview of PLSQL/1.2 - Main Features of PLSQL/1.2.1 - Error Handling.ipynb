{
 "cells": [
  {
   "cell_type": "markdown",
   "id": "501bb8fc-cf16-4ab7-b40b-005dd4f8f2f7",
   "metadata": {},
   "source": [
    "<h2>1.2.1 Error Handling</h2>\n",
    "\n",
    "<p>PL/SQL makes it easy to detect and handle errors.</p>\n",
    "\n",
    "<p>When an error occurs, PL/SQL raises an exception. Normal execution stops and control transfers to the exception-handling part of the PL/SQL block. You do not have to check every operation to ensure that it succeeded, as in a C program.</p>"
   ]
  }
 ],
 "metadata": {
  "kernelspec": {
   "display_name": "Python 3 (ipykernel)",
   "language": "python",
   "name": "python3"
  },
  "language_info": {
   "codemirror_mode": {
    "name": "ipython",
    "version": 3
   },
   "file_extension": ".py",
   "mimetype": "text/x-python",
   "name": "python",
   "nbconvert_exporter": "python",
   "pygments_lexer": "ipython3",
   "version": "3.12.4"
  }
 },
 "nbformat": 4,
 "nbformat_minor": 5
}
