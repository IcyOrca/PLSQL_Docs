{
 "cells": [
  {
   "cell_type": "markdown",
   "id": "63ef911b-6aa8-4ee9-b5bf-f5ed30d7d51e",
   "metadata": {},
   "source": [
    "<h2>1.1.2 High Performance</h2>\n",
    "    \n",
    "<h3>Reduced Database Traffic</h3>\n",
    "    <p>PL/SQL lets you send a block of statements to the database, significantly reducing traffic between the application and the database.</p>\n",
    "    \n",
    "<h3>Bind Variables</h3>\n",
    "    <p>When embedding SQL <code>INSERT</code>, <code>UPDATE</code>, <code>DELETE</code>, <code>MERGE</code>, or <code>SELECT</code> statements in PL/SQL, the compiler converts variables in the <code>WHERE</code> and <code>VALUES</code> clauses into bind variables, improving performance by allowing statement reuse.</p>\n",
    "    <p>For dynamic SQL, bind variables must be specified explicitly using <code>EXECUTE IMMEDIATE</code>.</p>\n",
    "    \n",
    "<h3>Subprograms</h3>\n",
    "    <p>PL/SQL subprograms are stored in executable form and can be invoked repeatedly. Running them on the database server reduces network traffic and improves response times.</p>\n",
    "    <p>Stored subprograms are cached and shared among users, lowering memory requirements and invocation overhead.</p>\n",
    "    \n",
    "<h3>Optimizer</h3>\n",
    "    <p>The PL/SQL compiler includes an optimizer that rearranges code for better performance.</p>"
   ]
  }
 ],
 "metadata": {
  "kernelspec": {
   "display_name": "Python 3 (ipykernel)",
   "language": "python",
   "name": "python3"
  },
  "language_info": {
   "codemirror_mode": {
    "name": "ipython",
    "version": 3
   },
   "file_extension": ".py",
   "mimetype": "text/x-python",
   "name": "python",
   "nbconvert_exporter": "python",
   "pygments_lexer": "ipython3",
   "version": "3.12.4"
  }
 },
 "nbformat": 4,
 "nbformat_minor": 5
}
