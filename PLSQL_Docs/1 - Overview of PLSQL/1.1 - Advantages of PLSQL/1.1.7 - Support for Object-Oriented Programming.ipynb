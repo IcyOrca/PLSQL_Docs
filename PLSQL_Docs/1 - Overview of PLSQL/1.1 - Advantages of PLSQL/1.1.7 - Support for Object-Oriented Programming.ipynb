{
 "cells": [
  {
   "cell_type": "markdown",
   "id": "76c57916-978b-4b5b-8bb2-b72f32eb7f8a",
   "metadata": {},
   "source": [
    "<h2>1.1.7 Support for Object-Oriented Programming</h2>\n",
    "\n",
    "<h3>Object Types</h3>\n",
    "    <p>PL/SQL allows defining object types that can be used in object-oriented designs.</p>\n",
    "\n",
    "<h3>Abstract Data Types</h3>\n",
    "    <p>PL/SQL supports object-oriented programming with \"Abstract Data Types\" to facilitate the creation of complex data structures.</p>\n"
   ]
  }
 ],
 "metadata": {
  "kernelspec": {
   "display_name": "Python 3 (ipykernel)",
   "language": "python",
   "name": "python3"
  },
  "language_info": {
   "codemirror_mode": {
    "name": "ipython",
    "version": 3
   },
   "file_extension": ".py",
   "mimetype": "text/x-python",
   "name": "python",
   "nbconvert_exporter": "python",
   "pygments_lexer": "ipython3",
   "version": "3.12.4"
  }
 },
 "nbformat": 4,
 "nbformat_minor": 5
}
