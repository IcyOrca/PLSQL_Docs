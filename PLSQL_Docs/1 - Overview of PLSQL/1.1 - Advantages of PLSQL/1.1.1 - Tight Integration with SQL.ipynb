{
 "cells": [
  {
   "cell_type": "markdown",
   "id": "e73f4390-cfbb-43fa-b330-89b870011ae8",
   "metadata": {},
   "source": [
    "<h2>1.1.1 - Tight Integration with SQL</h2>\n",
    "    <p>PL/SQL is tightly integrated with SQL, the most widely used database manipulation language.</p>\n",
    "    \n",
    "<h3>Key Features:</h3>\n",
    "    <ul>\n",
    "        <li>Supports all SQL data manipulation, cursor control, and transaction control statements.</li>\n",
    "        <li>Fully supports SQL data types, eliminating the need for type conversion.</li>\n",
    "        <li>Allows using SQL column and row data types with the <code>%TYPE</code> and <code>%ROWTYPE</code> attributes.</li>\n",
    "        <li>Enables processing of SQL query result sets row by row.</li>\n",
    "        <li>Supports SQL functions declared in <code>WITH</code> clauses of <code>SELECT</code> statements.</li>\n",
    "        <li>Provides both static and dynamic SQL for flexible application development.</li>\n",
    "    </ul>\n",
    "\n",
    "<h3>Static vs. Dynamic SQL</h3>\n",
    "    <p><strong>Static SQL</strong> is SQL whose full text is known at compile time.</p>\n",
    "    <p><strong>Dynamic SQL</strong> is SQL whose full text is not known until run time, making applications more flexible and versatile.</p>"
   ]
  }
 ],
 "metadata": {
  "kernelspec": {
   "display_name": "Python 3 (ipykernel)",
   "language": "python",
   "name": "python3"
  },
  "language_info": {
   "codemirror_mode": {
    "name": "ipython",
    "version": 3
   },
   "file_extension": ".py",
   "mimetype": "text/x-python",
   "name": "python",
   "nbconvert_exporter": "python",
   "pygments_lexer": "ipython3",
   "version": "3.12.4"
  }
 },
 "nbformat": 4,
 "nbformat_minor": 5
}
