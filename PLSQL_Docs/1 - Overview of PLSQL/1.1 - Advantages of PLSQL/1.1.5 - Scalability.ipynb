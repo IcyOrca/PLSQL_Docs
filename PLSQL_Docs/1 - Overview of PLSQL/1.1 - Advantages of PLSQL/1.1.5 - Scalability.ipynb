{
 "cells": [
  {
   "cell_type": "markdown",
   "id": "5d68b0f4-df4e-494a-a486-ec69723e9fe5",
   "metadata": {},
   "source": [
    "<h2>1.1.5 Scalability</h2>\n",
    "\n",
    "<h3>Centralized Application Processing</h3>\n",
    "    <p>PL/SQL stored subprograms enhance scalability by centralizing application processing on the database server.</p>\n",
    "\n",
    "<h3>Shared Server Memory</h3>\n",
    "    <p>The shared memory facilities of the shared server allow Oracle Database to support thousands of concurrent users on a single node.</p>\n",
    "\n",
    "<h3>Oracle Connection Manager</h3>\n",
    "    <p>For further scalability, Oracle Connection Manager can be used to multiplex network connections, improving performance and capacity.</p>\n"
   ]
  }
 ],
 "metadata": {
  "kernelspec": {
   "display_name": "Python 3 (ipykernel)",
   "language": "python",
   "name": "python3"
  },
  "language_info": {
   "codemirror_mode": {
    "name": "ipython",
    "version": 3
   },
   "file_extension": ".py",
   "mimetype": "text/x-python",
   "name": "python",
   "nbconvert_exporter": "python",
   "pygments_lexer": "ipython3",
   "version": "3.12.4"
  }
 },
 "nbformat": 4,
 "nbformat_minor": 5
}
