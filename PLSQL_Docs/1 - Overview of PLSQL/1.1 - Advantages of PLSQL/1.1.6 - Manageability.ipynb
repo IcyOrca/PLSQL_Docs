{
 "cells": [
  {
   "cell_type": "markdown",
   "id": "14e9c35a-2fa1-43da-ba57-5dd975e82a3e",
   "metadata": {},
   "source": [
    "<h2>1.1.6 Manageability</h2>\n",
    "\n",
    "<h3>Centralized Maintenance</h3>\n",
    "    <p>PL/SQL stored subprograms improve manageability by allowing you to maintain a single copy on the database server, rather than multiple copies on each client system.</p>\n",
    "\n",
    "<h3>Application Independence</h3>\n",
    "    <p>Any number of applications can use the subprograms, and changes to the subprograms can be made without affecting the applications that invoke them.</p>\n"
   ]
  }
 ],
 "metadata": {
  "kernelspec": {
   "display_name": "Python 3 (ipykernel)",
   "language": "python",
   "name": "python3"
  },
  "language_info": {
   "codemirror_mode": {
    "name": "ipython",
    "version": 3
   },
   "file_extension": ".py",
   "mimetype": "text/x-python",
   "name": "python",
   "nbconvert_exporter": "python",
   "pygments_lexer": "ipython3",
   "version": "3.12.4"
  }
 },
 "nbformat": 4,
 "nbformat_minor": 5
}
