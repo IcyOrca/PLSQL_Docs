{
 "cells": [
  {
   "cell_type": "markdown",
   "id": "e2b1a949-6fc4-4646-9201-b56aa880f18c",
   "metadata": {},
   "source": [
    "<h2>1.1.4 Portability</h2>\n",
    "\n",
    "<h3>Cross-Platform Compatibility</h3>\n",
    "    <p>PL/SQL is a portable and standard language for Oracle development, allowing applications to run on any operating system and platform where Oracle Database is supported.</p>\n"
   ]
  }
 ],
 "metadata": {
  "kernelspec": {
   "display_name": "Python 3 (ipykernel)",
   "language": "python",
   "name": "python3"
  },
  "language_info": {
   "codemirror_mode": {
    "name": "ipython",
    "version": 3
   },
   "file_extension": ".py",
   "mimetype": "text/x-python",
   "name": "python",
   "nbconvert_exporter": "python",
   "pygments_lexer": "ipython3",
   "version": "3.12.4"
  }
 },
 "nbformat": 4,
 "nbformat_minor": 5
}
